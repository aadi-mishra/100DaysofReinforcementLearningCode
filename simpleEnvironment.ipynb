{
  "nbformat": 4,
  "nbformat_minor": 0,
  "metadata": {
    "colab": {
      "name": "simpleEnvironment.ipynb",
      "provenance": [],
      "collapsed_sections": [],
      "authorship_tag": "ABX9TyMR1ycpNCVdjO7im9Se7oue",
      "include_colab_link": true
    },
    "kernelspec": {
      "name": "python3",
      "display_name": "Python 3"
    },
    "language_info": {
      "name": "python"
    }
  },
  "cells": [
    {
      "cell_type": "markdown",
      "metadata": {
        "id": "view-in-github",
        "colab_type": "text"
      },
      "source": [
        "<a href=\"https://colab.research.google.com/github/aadi-mishra/100DaysofReinforcementLearningCode/blob/main/simpleEnvironment.ipynb\" target=\"_parent\"><img src=\"https://colab.research.google.com/assets/colab-badge.svg\" alt=\"Open In Colab\"/></a>"
      ]
    },
    {
      "cell_type": "markdown",
      "metadata": {
        "id": "Djrh8DGqBXQx"
      },
      "source": [
        "Our Environment consists of 5 states `[A,B,C,D,E]` and 4 actions `A = [0,1,2,3]` "
      ]
    },
    {
      "cell_type": "code",
      "metadata": {
        "id": "U5MXuC-OA5Cs"
      },
      "source": [
        "from typing import Tuple"
      ],
      "execution_count": 2,
      "outputs": []
    },
    {
      "cell_type": "code",
      "metadata": {
        "id": "Yl5QW5Y7B_zx"
      },
      "source": [
        "class Environment:\n",
        "  def __init__(self):\n",
        "\n",
        "    self._initial_state = 1\n",
        "    self._allowed_actions = [0,1,2,3] # [A1:0, A2:1, A3:2]\n",
        "    self._states = {1, 2, 3, 4, 5}\n",
        "    self._current_state = self._initial_state\n",
        "\n",
        "  # Step function responsible for updating the current state based on previous state and action taken\n",
        "  def step(self, action)-> Tuple[int, int]:\n",
        "    if action not in self._allowed_actions:\n",
        "       raise ValueError(\"Action is not allowed\")\n",
        "       reward = 0\n",
        "    \n",
        "    if action == 0 and self._current_state == 1:\n",
        "      self._current_state = 2\n",
        "      reward = 1\n",
        "    \n",
        "    elif action == 1 and self._current_state == 2:\n",
        "      self._current_state = 3\n",
        "      reward = 1\n",
        "    \n",
        "    elif action == 2 and self._current_state == 3:\n",
        "      self._current_state = 4\n",
        "      reward = 1\n",
        "      \n",
        "    elif action == 3 and self._current_state == 4:\n",
        "      self._current_state = 5\n",
        "      reward = 1\n",
        "    \n",
        "    elif action == 3 and self._current_state == 5:\n",
        "      self._current_state = 5\n",
        "      reward = 10\n",
        "    \n",
        "    elif action == 3 and self._current_state == 1:\n",
        "      self._current_state = 5\n",
        "      reward = 10\n",
        "    #-----#\n",
        "    elif action == 0 and self._current_state == 5:\n",
        "      self._current_state = 4\n",
        "      reward = 0\n",
        "    \n",
        "    elif action == 0 and self._current_state == 4:\n",
        "      self._current_state = 3\n",
        "      reward = 0\n",
        "    \n",
        "    elif action == 0 and self._current_state == 3:\n",
        "      self._current_state = 2\n",
        "      reward = 0\n",
        "    \n",
        "    elif action == 0 and self._current_state == 2:\n",
        "      self._current_state = 1\n",
        "      reward = 0\n",
        "    #-----#\n",
        "    elif action == 1 and self._current_state == 5:\n",
        "      self._current_state = 4\n",
        "      reward = 0\n",
        "    \n",
        "    elif action == 1 and self._current_state == 4:\n",
        "      self._current_state = 3\n",
        "      reward = 0\n",
        "    \n",
        "    elif action == 1 and self._current_state == 3:\n",
        "      self._current_state = 2\n",
        "      reward = 0\n",
        "    #-----#\n",
        "    elif action == 2 and self._current_state == 5:\n",
        "      self._current_state = 4\n",
        "      reward = 0\n",
        "    \n",
        "    elif action == 2 and self._current_state == 4:\n",
        "      self._current_state = 3\n",
        "      reward = 0\n",
        "     \n",
        "    return self._current_state, reward\n",
        "    \n",
        "  \n",
        "  # Reset function that resets the environment state\n",
        "\n",
        "  def reset(self) -> int:\n",
        "    self._current_state = self._initial_state\n",
        "    return self._current_state\n",
        "  \n",
        "  "
      ],
      "execution_count": 28,
      "outputs": []
    },
    {
      "cell_type": "markdown",
      "metadata": {
        "id": "wgPe3JP9LEda"
      },
      "source": [
        "Let's test our environment's transitions for possible set of actions"
      ]
    },
    {
      "cell_type": "code",
      "metadata": {
        "colab": {
          "base_uri": "https://localhost:8080/"
        },
        "id": "EppV-3mqKh3A",
        "outputId": "579cf7be-c9fc-4186-a4fa-3f3ae92e0dba"
      },
      "source": [
        "env = Environment()\n",
        "state = env.reset()\n",
        "states_map = {1:'A', 2:'B', 3:'C', 4:'D', 5:'E'}\n",
        "actions = [0,1,2,3,3,0,0,0,0,3,3,1,1,1,0,3,3,2,2,0,0,0]\n",
        "print(f\"Initial state is {states_map[state]}\")\n",
        "\n",
        "for action in actions:\n",
        "  next_state, reward = env.step(action)\n",
        "  print(f\"From state {states_map[state]} to state {states_map[next_state]} with action {action}, reward: {reward}\")\n",
        "  state = next_state\n",
        "\n",
        "\n",
        "\n"
      ],
      "execution_count": 33,
      "outputs": [
        {
          "output_type": "stream",
          "text": [
            "Initial state is A\n",
            "From state A to state B with action 0, reward: 1\n",
            "From state B to state C with action 1, reward: 1\n",
            "From state C to state D with action 2, reward: 1\n",
            "From state D to state E with action 3, reward: 1\n",
            "From state E to state E with action 3, reward: 10\n",
            "From state E to state D with action 0, reward: 0\n",
            "From state D to state C with action 0, reward: 0\n",
            "From state C to state B with action 0, reward: 0\n",
            "From state B to state A with action 0, reward: 0\n",
            "From state A to state E with action 3, reward: 10\n",
            "From state E to state E with action 3, reward: 10\n",
            "From state E to state D with action 1, reward: 0\n",
            "From state D to state C with action 1, reward: 0\n",
            "From state C to state B with action 1, reward: 0\n",
            "From state B to state A with action 0, reward: 0\n",
            "From state A to state E with action 3, reward: 10\n",
            "From state E to state E with action 3, reward: 10\n",
            "From state E to state D with action 2, reward: 0\n",
            "From state D to state C with action 2, reward: 0\n",
            "From state C to state B with action 0, reward: 0\n",
            "From state B to state A with action 0, reward: 0\n",
            "From state A to state B with action 0, reward: 1\n"
          ],
          "name": "stdout"
        }
      ]
    }
  ]
}